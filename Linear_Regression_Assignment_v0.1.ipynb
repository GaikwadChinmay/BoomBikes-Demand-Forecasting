{
  "nbformat": 4,
  "nbformat_minor": 0,
  "metadata": {
    "colab": {
      "name": "Linear Regression Assignment.ipynb",
      "provenance": [],
      "collapsed_sections": []
    },
    "kernelspec": {
      "name": "python3",
      "display_name": "Python 3"
    },
    "language_info": {
      "name": "python"
    }
  },
  "cells": [
    {
      "cell_type": "markdown",
      "metadata": {
        "id": "hmUOtQOa435e"
      },
      "source": [
        "# **Introduction**\n",
        "\n",
        "This notebook is a programming assignment wherein we have built a multiple linear regression model for the prediction of demand for shared bikes.\n",
        "\n",
        "A US bike-sharing provider BoomBikes has recently suffered considerable dips in their revenues due to the ongoing Corona pandemic. The company is finding it very difficult to sustain in the current market scenario. So, it has decided to come up with a mindful business plan to be able to accelerate its revenue as soon as the ongoing lockdown comes to an end.\n",
        "\n",
        "This notebook focusses to model the demand for shared bikes with the available independent variables. It will be used by the management to understand how exactly the demands vary with different features"
      ]
    },
    {
      "cell_type": "code",
      "metadata": {
        "id": "sSCAY7OA4itV"
      },
      "source": [
        "#Let's import the required packages\n",
        "import pandas as pd\n",
        "import numpy as np\n",
        "\n",
        "import matplotlib.pyplot as plt\n",
        "import seaborn as sns\n",
        "\n",
        "from sklearn import linear_model\n",
        "from sklearn.linear_model import LinearRegression\n",
        "\n",
        "import warnings\n",
        "warnings.filterwarnings('ignore')"
      ],
      "execution_count": 1,
      "outputs": []
    },
    {
      "cell_type": "code",
      "metadata": {
        "id": "ygkQozJ55DYz"
      },
      "source": [
        "#Import the dataset\n",
        "df = pd.read_csv('/content/day.csv')"
      ],
      "execution_count": 2,
      "outputs": []
    },
    {
      "cell_type": "code",
      "metadata": {
        "colab": {
          "base_uri": "https://localhost:8080/",
          "height": 203
        },
        "id": "LezGLF8o5VE_",
        "outputId": "37a27bb8-e36f-459b-a43c-515544371e21"
      },
      "source": [
        "#Let's have a quick look at the data\n",
        "df.head()"
      ],
      "execution_count": 3,
      "outputs": [
        {
          "output_type": "execute_result",
          "data": {
            "text/html": [
              "<div>\n",
              "<style scoped>\n",
              "    .dataframe tbody tr th:only-of-type {\n",
              "        vertical-align: middle;\n",
              "    }\n",
              "\n",
              "    .dataframe tbody tr th {\n",
              "        vertical-align: top;\n",
              "    }\n",
              "\n",
              "    .dataframe thead th {\n",
              "        text-align: right;\n",
              "    }\n",
              "</style>\n",
              "<table border=\"1\" class=\"dataframe\">\n",
              "  <thead>\n",
              "    <tr style=\"text-align: right;\">\n",
              "      <th></th>\n",
              "      <th>instant</th>\n",
              "      <th>dteday</th>\n",
              "      <th>season</th>\n",
              "      <th>yr</th>\n",
              "      <th>mnth</th>\n",
              "      <th>holiday</th>\n",
              "      <th>weekday</th>\n",
              "      <th>workingday</th>\n",
              "      <th>weathersit</th>\n",
              "      <th>temp</th>\n",
              "      <th>atemp</th>\n",
              "      <th>hum</th>\n",
              "      <th>windspeed</th>\n",
              "      <th>casual</th>\n",
              "      <th>registered</th>\n",
              "      <th>cnt</th>\n",
              "    </tr>\n",
              "  </thead>\n",
              "  <tbody>\n",
              "    <tr>\n",
              "      <th>0</th>\n",
              "      <td>1</td>\n",
              "      <td>01-01-2018</td>\n",
              "      <td>1</td>\n",
              "      <td>0</td>\n",
              "      <td>1</td>\n",
              "      <td>0</td>\n",
              "      <td>1</td>\n",
              "      <td>1</td>\n",
              "      <td>2</td>\n",
              "      <td>14.110847</td>\n",
              "      <td>18.18125</td>\n",
              "      <td>80.5833</td>\n",
              "      <td>10.749882</td>\n",
              "      <td>331</td>\n",
              "      <td>654</td>\n",
              "      <td>985</td>\n",
              "    </tr>\n",
              "    <tr>\n",
              "      <th>1</th>\n",
              "      <td>2</td>\n",
              "      <td>02-01-2018</td>\n",
              "      <td>1</td>\n",
              "      <td>0</td>\n",
              "      <td>1</td>\n",
              "      <td>0</td>\n",
              "      <td>2</td>\n",
              "      <td>1</td>\n",
              "      <td>2</td>\n",
              "      <td>14.902598</td>\n",
              "      <td>17.68695</td>\n",
              "      <td>69.6087</td>\n",
              "      <td>16.652113</td>\n",
              "      <td>131</td>\n",
              "      <td>670</td>\n",
              "      <td>801</td>\n",
              "    </tr>\n",
              "    <tr>\n",
              "      <th>2</th>\n",
              "      <td>3</td>\n",
              "      <td>03-01-2018</td>\n",
              "      <td>1</td>\n",
              "      <td>0</td>\n",
              "      <td>1</td>\n",
              "      <td>0</td>\n",
              "      <td>3</td>\n",
              "      <td>1</td>\n",
              "      <td>1</td>\n",
              "      <td>8.050924</td>\n",
              "      <td>9.47025</td>\n",
              "      <td>43.7273</td>\n",
              "      <td>16.636703</td>\n",
              "      <td>120</td>\n",
              "      <td>1229</td>\n",
              "      <td>1349</td>\n",
              "    </tr>\n",
              "    <tr>\n",
              "      <th>3</th>\n",
              "      <td>4</td>\n",
              "      <td>04-01-2018</td>\n",
              "      <td>1</td>\n",
              "      <td>0</td>\n",
              "      <td>1</td>\n",
              "      <td>0</td>\n",
              "      <td>4</td>\n",
              "      <td>1</td>\n",
              "      <td>1</td>\n",
              "      <td>8.200000</td>\n",
              "      <td>10.60610</td>\n",
              "      <td>59.0435</td>\n",
              "      <td>10.739832</td>\n",
              "      <td>108</td>\n",
              "      <td>1454</td>\n",
              "      <td>1562</td>\n",
              "    </tr>\n",
              "    <tr>\n",
              "      <th>4</th>\n",
              "      <td>5</td>\n",
              "      <td>05-01-2018</td>\n",
              "      <td>1</td>\n",
              "      <td>0</td>\n",
              "      <td>1</td>\n",
              "      <td>0</td>\n",
              "      <td>5</td>\n",
              "      <td>1</td>\n",
              "      <td>1</td>\n",
              "      <td>9.305237</td>\n",
              "      <td>11.46350</td>\n",
              "      <td>43.6957</td>\n",
              "      <td>12.522300</td>\n",
              "      <td>82</td>\n",
              "      <td>1518</td>\n",
              "      <td>1600</td>\n",
              "    </tr>\n",
              "  </tbody>\n",
              "</table>\n",
              "</div>"
            ],
            "text/plain": [
              "   instant      dteday  season  yr  ...  windspeed  casual  registered   cnt\n",
              "0        1  01-01-2018       1   0  ...  10.749882     331         654   985\n",
              "1        2  02-01-2018       1   0  ...  16.652113     131         670   801\n",
              "2        3  03-01-2018       1   0  ...  16.636703     120        1229  1349\n",
              "3        4  04-01-2018       1   0  ...  10.739832     108        1454  1562\n",
              "4        5  05-01-2018       1   0  ...  12.522300      82        1518  1600\n",
              "\n",
              "[5 rows x 16 columns]"
            ]
          },
          "metadata": {
            "tags": []
          },
          "execution_count": 3
        }
      ]
    },
    {
      "cell_type": "code",
      "metadata": {
        "colab": {
          "base_uri": "https://localhost:8080/"
        },
        "id": "SuFujl454u4i",
        "outputId": "edf25622-c8fe-4392-fd81-f2d6d43faa1e"
      },
      "source": [
        "#Let's see the columns\n",
        "df.columns"
      ],
      "execution_count": 4,
      "outputs": [
        {
          "output_type": "execute_result",
          "data": {
            "text/plain": [
              "Index(['instant', 'dteday', 'season', 'yr', 'mnth', 'holiday', 'weekday',\n",
              "       'workingday', 'weathersit', 'temp', 'atemp', 'hum', 'windspeed',\n",
              "       'casual', 'registered', 'cnt'],\n",
              "      dtype='object')"
            ]
          },
          "metadata": {
            "tags": []
          },
          "execution_count": 4
        }
      ]
    },
    {
      "cell_type": "code",
      "metadata": {
        "colab": {
          "base_uri": "https://localhost:8080/"
        },
        "id": "VUjp-VKRFVuv",
        "outputId": "7d42785a-b4c4-4754-83ad-aa489dd7fdfd"
      },
      "source": [
        "#Verify whether dataset has any null value\n",
        "df.isnull().sum()"
      ],
      "execution_count": 5,
      "outputs": [
        {
          "output_type": "execute_result",
          "data": {
            "text/plain": [
              "instant       0\n",
              "dteday        0\n",
              "season        0\n",
              "yr            0\n",
              "mnth          0\n",
              "holiday       0\n",
              "weekday       0\n",
              "workingday    0\n",
              "weathersit    0\n",
              "temp          0\n",
              "atemp         0\n",
              "hum           0\n",
              "windspeed     0\n",
              "casual        0\n",
              "registered    0\n",
              "cnt           0\n",
              "dtype: int64"
            ]
          },
          "metadata": {
            "tags": []
          },
          "execution_count": 5
        }
      ]
    },
    {
      "cell_type": "code",
      "metadata": {
        "colab": {
          "base_uri": "https://localhost:8080/"
        },
        "id": "aKZDzCRQ5cLO",
        "outputId": "6be32456-2c7d-4330-cda6-509bbd22aa39"
      },
      "source": [
        "#Shape of the dataset\n",
        "df.shape"
      ],
      "execution_count": 6,
      "outputs": [
        {
          "output_type": "execute_result",
          "data": {
            "text/plain": [
              "(730, 16)"
            ]
          },
          "metadata": {
            "tags": []
          },
          "execution_count": 6
        }
      ]
    },
    {
      "cell_type": "code",
      "metadata": {
        "colab": {
          "base_uri": "https://localhost:8080/",
          "height": 295
        },
        "id": "FtOPlUth5XGk",
        "outputId": "e7842c6b-4f1b-4670-fdcb-b5dab1180290"
      },
      "source": [
        "#Let's see the summary of the dataset\n",
        "df.describe()"
      ],
      "execution_count": 7,
      "outputs": [
        {
          "output_type": "execute_result",
          "data": {
            "text/html": [
              "<div>\n",
              "<style scoped>\n",
              "    .dataframe tbody tr th:only-of-type {\n",
              "        vertical-align: middle;\n",
              "    }\n",
              "\n",
              "    .dataframe tbody tr th {\n",
              "        vertical-align: top;\n",
              "    }\n",
              "\n",
              "    .dataframe thead th {\n",
              "        text-align: right;\n",
              "    }\n",
              "</style>\n",
              "<table border=\"1\" class=\"dataframe\">\n",
              "  <thead>\n",
              "    <tr style=\"text-align: right;\">\n",
              "      <th></th>\n",
              "      <th>instant</th>\n",
              "      <th>season</th>\n",
              "      <th>yr</th>\n",
              "      <th>mnth</th>\n",
              "      <th>holiday</th>\n",
              "      <th>weekday</th>\n",
              "      <th>workingday</th>\n",
              "      <th>weathersit</th>\n",
              "      <th>temp</th>\n",
              "      <th>atemp</th>\n",
              "      <th>hum</th>\n",
              "      <th>windspeed</th>\n",
              "      <th>casual</th>\n",
              "      <th>registered</th>\n",
              "      <th>cnt</th>\n",
              "    </tr>\n",
              "  </thead>\n",
              "  <tbody>\n",
              "    <tr>\n",
              "      <th>count</th>\n",
              "      <td>730.000000</td>\n",
              "      <td>730.000000</td>\n",
              "      <td>730.000000</td>\n",
              "      <td>730.000000</td>\n",
              "      <td>730.000000</td>\n",
              "      <td>730.000000</td>\n",
              "      <td>730.000000</td>\n",
              "      <td>730.000000</td>\n",
              "      <td>730.000000</td>\n",
              "      <td>730.000000</td>\n",
              "      <td>730.000000</td>\n",
              "      <td>730.000000</td>\n",
              "      <td>730.000000</td>\n",
              "      <td>730.000000</td>\n",
              "      <td>730.000000</td>\n",
              "    </tr>\n",
              "    <tr>\n",
              "      <th>mean</th>\n",
              "      <td>365.500000</td>\n",
              "      <td>2.498630</td>\n",
              "      <td>0.500000</td>\n",
              "      <td>6.526027</td>\n",
              "      <td>0.028767</td>\n",
              "      <td>2.995890</td>\n",
              "      <td>0.690411</td>\n",
              "      <td>1.394521</td>\n",
              "      <td>20.319259</td>\n",
              "      <td>23.726322</td>\n",
              "      <td>62.765175</td>\n",
              "      <td>12.763620</td>\n",
              "      <td>849.249315</td>\n",
              "      <td>3658.757534</td>\n",
              "      <td>4508.006849</td>\n",
              "    </tr>\n",
              "    <tr>\n",
              "      <th>std</th>\n",
              "      <td>210.877136</td>\n",
              "      <td>1.110184</td>\n",
              "      <td>0.500343</td>\n",
              "      <td>3.450215</td>\n",
              "      <td>0.167266</td>\n",
              "      <td>2.000339</td>\n",
              "      <td>0.462641</td>\n",
              "      <td>0.544807</td>\n",
              "      <td>7.506729</td>\n",
              "      <td>8.150308</td>\n",
              "      <td>14.237589</td>\n",
              "      <td>5.195841</td>\n",
              "      <td>686.479875</td>\n",
              "      <td>1559.758728</td>\n",
              "      <td>1936.011647</td>\n",
              "    </tr>\n",
              "    <tr>\n",
              "      <th>min</th>\n",
              "      <td>1.000000</td>\n",
              "      <td>1.000000</td>\n",
              "      <td>0.000000</td>\n",
              "      <td>1.000000</td>\n",
              "      <td>0.000000</td>\n",
              "      <td>0.000000</td>\n",
              "      <td>0.000000</td>\n",
              "      <td>1.000000</td>\n",
              "      <td>2.424346</td>\n",
              "      <td>3.953480</td>\n",
              "      <td>0.000000</td>\n",
              "      <td>1.500244</td>\n",
              "      <td>2.000000</td>\n",
              "      <td>20.000000</td>\n",
              "      <td>22.000000</td>\n",
              "    </tr>\n",
              "    <tr>\n",
              "      <th>25%</th>\n",
              "      <td>183.250000</td>\n",
              "      <td>2.000000</td>\n",
              "      <td>0.000000</td>\n",
              "      <td>4.000000</td>\n",
              "      <td>0.000000</td>\n",
              "      <td>1.000000</td>\n",
              "      <td>0.000000</td>\n",
              "      <td>1.000000</td>\n",
              "      <td>13.811885</td>\n",
              "      <td>16.889713</td>\n",
              "      <td>52.000000</td>\n",
              "      <td>9.041650</td>\n",
              "      <td>316.250000</td>\n",
              "      <td>2502.250000</td>\n",
              "      <td>3169.750000</td>\n",
              "    </tr>\n",
              "    <tr>\n",
              "      <th>50%</th>\n",
              "      <td>365.500000</td>\n",
              "      <td>3.000000</td>\n",
              "      <td>0.500000</td>\n",
              "      <td>7.000000</td>\n",
              "      <td>0.000000</td>\n",
              "      <td>3.000000</td>\n",
              "      <td>1.000000</td>\n",
              "      <td>1.000000</td>\n",
              "      <td>20.465826</td>\n",
              "      <td>24.368225</td>\n",
              "      <td>62.625000</td>\n",
              "      <td>12.125325</td>\n",
              "      <td>717.000000</td>\n",
              "      <td>3664.500000</td>\n",
              "      <td>4548.500000</td>\n",
              "    </tr>\n",
              "    <tr>\n",
              "      <th>75%</th>\n",
              "      <td>547.750000</td>\n",
              "      <td>3.000000</td>\n",
              "      <td>1.000000</td>\n",
              "      <td>10.000000</td>\n",
              "      <td>0.000000</td>\n",
              "      <td>5.000000</td>\n",
              "      <td>1.000000</td>\n",
              "      <td>2.000000</td>\n",
              "      <td>26.880615</td>\n",
              "      <td>30.445775</td>\n",
              "      <td>72.989575</td>\n",
              "      <td>15.625589</td>\n",
              "      <td>1096.500000</td>\n",
              "      <td>4783.250000</td>\n",
              "      <td>5966.000000</td>\n",
              "    </tr>\n",
              "    <tr>\n",
              "      <th>max</th>\n",
              "      <td>730.000000</td>\n",
              "      <td>4.000000</td>\n",
              "      <td>1.000000</td>\n",
              "      <td>12.000000</td>\n",
              "      <td>1.000000</td>\n",
              "      <td>6.000000</td>\n",
              "      <td>1.000000</td>\n",
              "      <td>3.000000</td>\n",
              "      <td>35.328347</td>\n",
              "      <td>42.044800</td>\n",
              "      <td>97.250000</td>\n",
              "      <td>34.000021</td>\n",
              "      <td>3410.000000</td>\n",
              "      <td>6946.000000</td>\n",
              "      <td>8714.000000</td>\n",
              "    </tr>\n",
              "  </tbody>\n",
              "</table>\n",
              "</div>"
            ],
            "text/plain": [
              "          instant      season  ...   registered          cnt\n",
              "count  730.000000  730.000000  ...   730.000000   730.000000\n",
              "mean   365.500000    2.498630  ...  3658.757534  4508.006849\n",
              "std    210.877136    1.110184  ...  1559.758728  1936.011647\n",
              "min      1.000000    1.000000  ...    20.000000    22.000000\n",
              "25%    183.250000    2.000000  ...  2502.250000  3169.750000\n",
              "50%    365.500000    3.000000  ...  3664.500000  4548.500000\n",
              "75%    547.750000    3.000000  ...  4783.250000  5966.000000\n",
              "max    730.000000    4.000000  ...  6946.000000  8714.000000\n",
              "\n",
              "[8 rows x 15 columns]"
            ]
          },
          "metadata": {
            "tags": []
          },
          "execution_count": 7
        }
      ]
    },
    {
      "cell_type": "code",
      "metadata": {
        "colab": {
          "base_uri": "https://localhost:8080/"
        },
        "id": "JjewRr2x5Yst",
        "outputId": "3c1d7f72-d471-4bed-8704-3fa2e88f4f06"
      },
      "source": [
        "#Now, let's see the more information of the dataset\n",
        "df.info()"
      ],
      "execution_count": 8,
      "outputs": [
        {
          "output_type": "stream",
          "text": [
            "<class 'pandas.core.frame.DataFrame'>\n",
            "RangeIndex: 730 entries, 0 to 729\n",
            "Data columns (total 16 columns):\n",
            " #   Column      Non-Null Count  Dtype  \n",
            "---  ------      --------------  -----  \n",
            " 0   instant     730 non-null    int64  \n",
            " 1   dteday      730 non-null    object \n",
            " 2   season      730 non-null    int64  \n",
            " 3   yr          730 non-null    int64  \n",
            " 4   mnth        730 non-null    int64  \n",
            " 5   holiday     730 non-null    int64  \n",
            " 6   weekday     730 non-null    int64  \n",
            " 7   workingday  730 non-null    int64  \n",
            " 8   weathersit  730 non-null    int64  \n",
            " 9   temp        730 non-null    float64\n",
            " 10  atemp       730 non-null    float64\n",
            " 11  hum         730 non-null    float64\n",
            " 12  windspeed   730 non-null    float64\n",
            " 13  casual      730 non-null    int64  \n",
            " 14  registered  730 non-null    int64  \n",
            " 15  cnt         730 non-null    int64  \n",
            "dtypes: float64(4), int64(11), object(1)\n",
            "memory usage: 91.4+ KB\n"
          ],
          "name": "stdout"
        }
      ]
    },
    {
      "cell_type": "markdown",
      "metadata": {
        "id": "2c4m22GL_Nz4"
      },
      "source": [
        "There are few categorical variables in the dataset, for preprocessing the data we would need to create the dummy variables"
      ]
    },
    {
      "cell_type": "markdown",
      "metadata": {
        "id": "zh3-EFQAAPSA"
      },
      "source": [
        "def season_lab(season):\n",
        "  if season == 1:\n",
        "    lab = 'spring'\n",
        "  elif season ==2:\n",
        "    lab = 'summer'\n",
        "  elif season ==3:\n",
        "    lab = 'fall'\n",
        "  elif season ==4:\n",
        "    lab = 'winter'\n",
        "  return lab\n",
        "\n",
        "df['season'] = df['season'].apply(lambda x:season_lab(x))"
      ]
    },
    {
      "cell_type": "code",
      "metadata": {
        "id": "8vMiZ7bH_fuX"
      },
      "source": [
        "def season_lab(season):\n",
        "  return season.map({1:'spring',2:'summer',3:'fall',4:'winter'})\n",
        "\n",
        "df[['season']] = df[['season']].apply(season_lab)"
      ],
      "execution_count": 9,
      "outputs": []
    },
    {
      "cell_type": "code",
      "metadata": {
        "colab": {
          "base_uri": "https://localhost:8080/"
        },
        "id": "yGaCQAZaBGJU",
        "outputId": "06a74f91-c8e0-48d5-fd63-def3d828ce19"
      },
      "source": [
        "df['season'].value_counts()"
      ],
      "execution_count": 10,
      "outputs": [
        {
          "output_type": "execute_result",
          "data": {
            "text/plain": [
              "fall      188\n",
              "summer    184\n",
              "spring    180\n",
              "winter    178\n",
              "Name: season, dtype: int64"
            ]
          },
          "metadata": {
            "tags": []
          },
          "execution_count": 10
        }
      ]
    },
    {
      "cell_type": "code",
      "metadata": {
        "colab": {
          "base_uri": "https://localhost:8080/"
        },
        "id": "lqzqNZ2dFR7U",
        "outputId": "e2363c76-cf47-435e-ddd5-f883cd80a856"
      },
      "source": [
        "df['weathersit'].value_counts()"
      ],
      "execution_count": 11,
      "outputs": [
        {
          "output_type": "execute_result",
          "data": {
            "text/plain": [
              "1    463\n",
              "2    246\n",
              "3     21\n",
              "Name: weathersit, dtype: int64"
            ]
          },
          "metadata": {
            "tags": []
          },
          "execution_count": 11
        }
      ]
    },
    {
      "cell_type": "code",
      "metadata": {
        "id": "dGxM6MiaAXXd"
      },
      "source": [
        "def weather_lab(weather):\n",
        "  return weather.map({1:'clear',2:'cloudy',3:'rainy'})\n",
        "\n",
        "df[['weathersit']] = df[['weathersit']].apply(weather_lab)"
      ],
      "execution_count": 12,
      "outputs": []
    },
    {
      "cell_type": "code",
      "metadata": {
        "id": "rJRPWJmMBcqe"
      },
      "source": [
        "def month_lab(month):\n",
        "  return month.map({1:'Jan',2:'Feb',3:'Mar',4:'Apr',5:'May',6:'Jun',7:'Jul',8:'Aug',9:'Sep',10:'Oct',11:'Nov',12:'Dec'})\n",
        "\n",
        "df[['mnth']] = df[['mnth']].apply(month_lab)"
      ],
      "execution_count": 13,
      "outputs": []
    },
    {
      "cell_type": "code",
      "metadata": {
        "colab": {
          "base_uri": "https://localhost:8080/"
        },
        "id": "d_QiAaNKCVOr",
        "outputId": "8b53d875-8eb9-4539-a3a3-b0603a1f2339"
      },
      "source": [
        "df['weekday'].value_counts()"
      ],
      "execution_count": 14,
      "outputs": [
        {
          "output_type": "execute_result",
          "data": {
            "text/plain": [
              "2    105\n",
              "1    105\n",
              "6    104\n",
              "5    104\n",
              "4    104\n",
              "3    104\n",
              "0    104\n",
              "Name: weekday, dtype: int64"
            ]
          },
          "metadata": {
            "tags": []
          },
          "execution_count": 14
        }
      ]
    },
    {
      "cell_type": "code",
      "metadata": {
        "id": "Nlh8G6OaCLOq"
      },
      "source": [
        "def week_lab(week):\n",
        "  return week.map({0:'Sun',1:'Mon',2:'Tue',3:'Wed',4:'Thu',5:'Fri',6:'Sat'})\n",
        "\n",
        "df[['weekday']] = df[['weekday']].apply(week_lab)"
      ],
      "execution_count": 15,
      "outputs": []
    },
    {
      "cell_type": "code",
      "metadata": {
        "id": "OFvRZC_iF-ze"
      },
      "source": [
        "#df_final = pd.concat([df, season_df,weathersit_df],axis=1)"
      ],
      "execution_count": 16,
      "outputs": []
    },
    {
      "cell_type": "code",
      "metadata": {
        "id": "Wm1pnAtGH-TD"
      },
      "source": [
        "#df_final = pd.concat([df,df2],axis=1)\n",
        "#df_final.head()"
      ],
      "execution_count": 17,
      "outputs": []
    },
    {
      "cell_type": "code",
      "metadata": {
        "id": "xCXOn-HBInRC"
      },
      "source": [
        "#df_final.drop(labels=['weathersit','season','dteday','casual','registered','instant'],axis=1,inplace=True)"
      ],
      "execution_count": 18,
      "outputs": []
    },
    {
      "cell_type": "code",
      "metadata": {
        "id": "mMrRqVz2IzRX"
      },
      "source": [
        "#df_final.head()"
      ],
      "execution_count": 19,
      "outputs": []
    },
    {
      "cell_type": "markdown",
      "metadata": {
        "id": "2eCLQG-SDhK6"
      },
      "source": [
        "# Data Visualization\n",
        "\n",
        "##Univariate Analysis"
      ]
    },
    {
      "cell_type": "code",
      "metadata": {
        "id": "SAhkcBWcJASD",
        "colab": {
          "base_uri": "https://localhost:8080/"
        },
        "outputId": "706899e0-b5a9-4c81-b050-6216d4e82d75"
      },
      "source": [
        "df.info()"
      ],
      "execution_count": 20,
      "outputs": [
        {
          "output_type": "stream",
          "text": [
            "<class 'pandas.core.frame.DataFrame'>\n",
            "RangeIndex: 730 entries, 0 to 729\n",
            "Data columns (total 16 columns):\n",
            " #   Column      Non-Null Count  Dtype  \n",
            "---  ------      --------------  -----  \n",
            " 0   instant     730 non-null    int64  \n",
            " 1   dteday      730 non-null    object \n",
            " 2   season      730 non-null    object \n",
            " 3   yr          730 non-null    int64  \n",
            " 4   mnth        730 non-null    object \n",
            " 5   holiday     730 non-null    int64  \n",
            " 6   weekday     730 non-null    object \n",
            " 7   workingday  730 non-null    int64  \n",
            " 8   weathersit  730 non-null    object \n",
            " 9   temp        730 non-null    float64\n",
            " 10  atemp       730 non-null    float64\n",
            " 11  hum         730 non-null    float64\n",
            " 12  windspeed   730 non-null    float64\n",
            " 13  casual      730 non-null    int64  \n",
            " 14  registered  730 non-null    int64  \n",
            " 15  cnt         730 non-null    int64  \n",
            "dtypes: float64(4), int64(7), object(5)\n",
            "memory usage: 91.4+ KB\n"
          ],
          "name": "stdout"
        }
      ]
    },
    {
      "cell_type": "code",
      "metadata": {
        "colab": {
          "base_uri": "https://localhost:8080/"
        },
        "id": "exmSwciHDrXh",
        "outputId": "740d4669-3a36-4ab3-e55f-96fbfa1d0de7"
      },
      "source": [
        "num_cols = df.select_dtypes(['int64','float64']).columns.tolist()\n",
        "num_cols = num_cols[4:]\n",
        "print(len(num_cols))\n",
        "num_cols"
      ],
      "execution_count": 21,
      "outputs": [
        {
          "output_type": "stream",
          "text": [
            "7\n"
          ],
          "name": "stdout"
        },
        {
          "output_type": "execute_result",
          "data": {
            "text/plain": [
              "['temp', 'atemp', 'hum', 'windspeed', 'casual', 'registered', 'cnt']"
            ]
          },
          "metadata": {
            "tags": []
          },
          "execution_count": 21
        }
      ]
    },
    {
      "cell_type": "code",
      "metadata": {
        "id": "wuyV43foD6I3"
      },
      "source": [
        "def plots(num_cols):\n",
        "  plt.figure(figsize=[25,25])\n",
        "  for col in num_cols:\n",
        "    a=num_cols.index(col)+1\n",
        "    plt.subplot(3,3,a)\n",
        "    sns.distplot(df[col])\n",
        "  plt.show()"
      ],
      "execution_count": 22,
      "outputs": []
    },
    {
      "cell_type": "code",
      "metadata": {
        "colab": {
          "base_uri": "https://localhost:8080/",
          "height": 1000
        },
        "id": "h_X2iYONFUw1",
        "outputId": "88c189fa-6502-4f0c-ef90-50cd6f291d78"
      },
      "source": [
        "plots(num_cols)"
      ],
      "execution_count": 23,
      "outputs": [
        {
          "output_type": "display_data",
          "data": {
            "image/png": "[encoded data removed]",
            "text/plain": [
              "<Figure size 1800x1800 with 7 Axes>"
            ]
          },
          "metadata": {
            "tags": [],
            "needs_background": "light"
          }
        }
      ]
    },
    {
      "cell_type": "markdown",
      "metadata": {
        "id": "9gdMVw60OOHq"
      },
      "source": [
        "## *Inferences:*\n",
        "- windspeed normal dist\n",
        "- causal users negatively skewed\n"
      ]
    },
    {
      "cell_type": "markdown",
      "metadata": {
        "id": "gx1Ex2yYHt21"
      },
      "source": [
        "## Bi-Variate Analysis"
      ]
    },
    {
      "cell_type": "code",
      "metadata": {
        "colab": {
          "base_uri": "https://localhost:8080/"
        },
        "id": "ZyCJeep4FXYc",
        "outputId": "6cb0d650-a1e1-44fe-d7d5-9b710a4ad004"
      },
      "source": [
        "obj_cols = df.select_dtypes(['object']).columns.tolist()\n",
        "obj_cols = obj_cols+['yr','holiday','workingday']\n",
        "print(len(obj_cols))"
      ],
      "execution_count": 24,
      "outputs": [
        {
          "output_type": "stream",
          "text": [
            "8\n"
          ],
          "name": "stdout"
        }
      ]
    },
    {
      "cell_type": "code",
      "metadata": {
        "colab": {
          "base_uri": "https://localhost:8080/",
          "height": 1000
        },
        "id": "hrHkdh2HH7lr",
        "outputId": "bff357ba-85cf-4fa4-af5f-3e9958a33991"
      },
      "source": [
        "def plots(obj_cols):\n",
        "  plt.figure(figsize=[25,25])\n",
        "  for col in obj_cols:\n",
        "    a=obj_cols.index(col)+1\n",
        "    plt.subplot(3,3,a)\n",
        "    sns.boxplot(x=df[col], y=df['cnt'])\n",
        "  plt.show()\n",
        "\n",
        "plots(obj_cols)"
      ],
      "execution_count": 25,
      "outputs": [
        {
          "output_type": "display_data",
          "data": {
            "image/png": "[encoded data removed]",
            "text/plain": [
              "<Figure size 1800x1800 with 8 Axes>"
            ]
          },
          "metadata": {
            "tags": [],
            "needs_background": "light"
          }
        }
      ]
    },
    {
      "cell_type": "markdown",
      "metadata": {
        "id": "ob6wa2RFOf3y"
      },
      "source": [
        "## *Inferences:*\n",
        "- highest in fall lowest in spring\n",
        "- increases in 2019 than 2018\n",
        "- lowest in rainy weather"
      ]
    },
    {
      "cell_type": "markdown",
      "metadata": {
        "id": "aT_ZnRFkJgtT"
      },
      "source": [
        "# Multivariate Analysis"
      ]
    },
    {
      "cell_type": "code",
      "metadata": {
        "colab": {
          "base_uri": "https://localhost:8080/",
          "height": 687
        },
        "id": "VZ6A398DI8Xn",
        "outputId": "6dce4336-486e-4a1f-ade4-9dde4f88a3f8"
      },
      "source": [
        "cols = df.select_dtypes(['int64','float64']).columns.tolist()\n",
        "cols = cols[4:]\n",
        "\n",
        "corr_mat = df[cols].corr()\n",
        "corr_mat_mask = np.array(corr_mat)\n",
        "\n",
        "corr_mat_mask[np.tril_indices_from(corr_mat)] = False\n",
        "plt.figure(figsize=[12,12])\n",
        "sns.heatmap(corr_mat, mask=corr_mat_mask, vmax=.8, square=True, annot=True, cmap='RdYlGn_r').set(title='Correaltion Between Numeric Columns');\n",
        "plt.show()"
      ],
      "execution_count": 26,
      "outputs": [
        {
          "output_type": "display_data",
          "data": {
            "image/png": "[encoded data removed]",
            "text/plain": [
              "<Figure size 864x864 with 2 Axes>"
            ]
          },
          "metadata": {
            "tags": [],
            "needs_background": "light"
          }
        }
      ]
    },
    {
      "cell_type": "markdown",
      "metadata": {
        "id": "t0NhuHpUOz8D"
      },
      "source": [
        "## *Inferences:*\n",
        "- temp, atemp highly corr\n",
        "- windspeed and hum neg. highly corr"
      ]
    },
    {
      "cell_type": "markdown",
      "metadata": {
        "id": "MS9bYrPGPnEg"
      },
      "source": [
        "# Creating dummy variables for categorical columns"
      ]
    },
    {
      "cell_type": "markdown",
      "metadata": {
        "id": "UpB8uX80QtY2"
      },
      "source": [
        "Dropping columns \n",
        "- `weathersit`: This column has been converted to dummy variables\n",
        "- `season` : This column has been converted to dummy variables\n",
        "- `dteday`: Dropping this columns as dates data is not required in model building\n",
        "- `casual`: We have total count of users hence dropping this column \n",
        "- `registered`: We have total count of users hence dropping this column \n",
        "- `instant` : This is  an index column and hence not required"
      ]
    },
    {
      "cell_type": "code",
      "metadata": {
        "id": "_uTQ7bmDR23w"
      },
      "source": [
        "df.drop(labels='dteday',axis=1,inplace=True)"
      ],
      "execution_count": 27,
      "outputs": []
    },
    {
      "cell_type": "code",
      "metadata": {
        "colab": {
          "base_uri": "https://localhost:8080/"
        },
        "id": "I-quJt3CPmdd",
        "outputId": "0156a1f6-1bbf-42dc-822b-e19ef66bf7f8"
      },
      "source": [
        "df_catg = df.select_dtypes('object')\n",
        "df_catg.columns"
      ],
      "execution_count": 28,
      "outputs": [
        {
          "output_type": "execute_result",
          "data": {
            "text/plain": [
              "Index(['season', 'mnth', 'weekday', 'weathersit'], dtype='object')"
            ]
          },
          "metadata": {
            "tags": []
          },
          "execution_count": 28
        }
      ]
    },
    {
      "cell_type": "code",
      "metadata": {
        "id": "1VCBRkCzRa9e"
      },
      "source": [
        "df.drop(labels=['weathersit','mnth', 'weekday','season','casual','registered','instant'],axis=1,inplace=True)"
      ],
      "execution_count": 29,
      "outputs": []
    },
    {
      "cell_type": "code",
      "metadata": {
        "colab": {
          "base_uri": "https://localhost:8080/",
          "height": 223
        },
        "id": "fZf-5gc9KxCo",
        "outputId": "c3e69a4b-e2e9-4895-c9fa-3549694a2cea"
      },
      "source": [
        "df_dummy = pd.get_dummies(df_catg, drop_first=True)\n",
        "df_dummy.head()"
      ],
      "execution_count": 30,
      "outputs": [
        {
          "output_type": "execute_result",
          "data": {
            "text/html": [
              "<div>\n",
              "<style scoped>\n",
              "    .dataframe tbody tr th:only-of-type {\n",
              "        vertical-align: middle;\n",
              "    }\n",
              "\n",
              "    .dataframe tbody tr th {\n",
              "        vertical-align: top;\n",
              "    }\n",
              "\n",
              "    .dataframe thead th {\n",
              "        text-align: right;\n",
              "    }\n",
              "</style>\n",
              "<table border=\"1\" class=\"dataframe\">\n",
              "  <thead>\n",
              "    <tr style=\"text-align: right;\">\n",
              "      <th></th>\n",
              "      <th>season_spring</th>\n",
              "      <th>season_summer</th>\n",
              "      <th>season_winter</th>\n",
              "      <th>mnth_Aug</th>\n",
              "      <th>mnth_Dec</th>\n",
              "      <th>mnth_Feb</th>\n",
              "      <th>mnth_Jan</th>\n",
              "      <th>mnth_Jul</th>\n",
              "      <th>mnth_Jun</th>\n",
              "      <th>mnth_Mar</th>\n",
              "      <th>mnth_May</th>\n",
              "      <th>mnth_Nov</th>\n",
              "      <th>mnth_Oct</th>\n",
              "      <th>mnth_Sep</th>\n",
              "      <th>weekday_Mon</th>\n",
              "      <th>weekday_Sat</th>\n",
              "      <th>weekday_Sun</th>\n",
              "      <th>weekday_Thu</th>\n",
              "      <th>weekday_Tue</th>\n",
              "      <th>weekday_Wed</th>\n",
              "      <th>weathersit_cloudy</th>\n",
              "      <th>weathersit_rainy</th>\n",
              "    </tr>\n",
              "  </thead>\n",
              "  <tbody>\n",
              "    <tr>\n",
              "      <th>0</th>\n",
              "      <td>1</td>\n",
              "      <td>0</td>\n",
              "      <td>0</td>\n",
              "      <td>0</td>\n",
              "      <td>0</td>\n",
              "      <td>0</td>\n",
              "      <td>1</td>\n",
              "      <td>0</td>\n",
              "      <td>0</td>\n",
              "      <td>0</td>\n",
              "      <td>0</td>\n",
              "      <td>0</td>\n",
              "      <td>0</td>\n",
              "      <td>0</td>\n",
              "      <td>1</td>\n",
              "      <td>0</td>\n",
              "      <td>0</td>\n",
              "      <td>0</td>\n",
              "      <td>0</td>\n",
              "      <td>0</td>\n",
              "      <td>1</td>\n",
              "      <td>0</td>\n",
              "    </tr>\n",
              "    <tr>\n",
              "      <th>1</th>\n",
              "      <td>1</td>\n",
              "      <td>0</td>\n",
              "      <td>0</td>\n",
              "      <td>0</td>\n",
              "      <td>0</td>\n",
              "      <td>0</td>\n",
              "      <td>1</td>\n",
              "      <td>0</td>\n",
              "      <td>0</td>\n",
              "      <td>0</td>\n",
              "      <td>0</td>\n",
              "      <td>0</td>\n",
              "      <td>0</td>\n",
              "      <td>0</td>\n",
              "      <td>0</td>\n",
              "      <td>0</td>\n",
              "      <td>0</td>\n",
              "      <td>0</td>\n",
              "      <td>1</td>\n",
              "      <td>0</td>\n",
              "      <td>1</td>\n",
              "      <td>0</td>\n",
              "    </tr>\n",
              "    <tr>\n",
              "      <th>2</th>\n",
              "      <td>1</td>\n",
              "      <td>0</td>\n",
              "      <td>0</td>\n",
              "      <td>0</td>\n",
              "      <td>0</td>\n",
              "      <td>0</td>\n",
              "      <td>1</td>\n",
              "      <td>0</td>\n",
              "      <td>0</td>\n",
              "      <td>0</td>\n",
              "      <td>0</td>\n",
              "      <td>0</td>\n",
              "      <td>0</td>\n",
              "      <td>0</td>\n",
              "      <td>0</td>\n",
              "      <td>0</td>\n",
              "      <td>0</td>\n",
              "      <td>0</td>\n",
              "      <td>0</td>\n",
              "      <td>1</td>\n",
              "      <td>0</td>\n",
              "      <td>0</td>\n",
              "    </tr>\n",
              "    <tr>\n",
              "      <th>3</th>\n",
              "      <td>1</td>\n",
              "      <td>0</td>\n",
              "      <td>0</td>\n",
              "      <td>0</td>\n",
              "      <td>0</td>\n",
              "      <td>0</td>\n",
              "      <td>1</td>\n",
              "      <td>0</td>\n",
              "      <td>0</td>\n",
              "      <td>0</td>\n",
              "      <td>0</td>\n",
              "      <td>0</td>\n",
              "      <td>0</td>\n",
              "      <td>0</td>\n",
              "      <td>0</td>\n",
              "      <td>0</td>\n",
              "      <td>0</td>\n",
              "      <td>1</td>\n",
              "      <td>0</td>\n",
              "      <td>0</td>\n",
              "      <td>0</td>\n",
              "      <td>0</td>\n",
              "    </tr>\n",
              "    <tr>\n",
              "      <th>4</th>\n",
              "      <td>1</td>\n",
              "      <td>0</td>\n",
              "      <td>0</td>\n",
              "      <td>0</td>\n",
              "      <td>0</td>\n",
              "      <td>0</td>\n",
              "      <td>1</td>\n",
              "      <td>0</td>\n",
              "      <td>0</td>\n",
              "      <td>0</td>\n",
              "      <td>0</td>\n",
              "      <td>0</td>\n",
              "      <td>0</td>\n",
              "      <td>0</td>\n",
              "      <td>0</td>\n",
              "      <td>0</td>\n",
              "      <td>0</td>\n",
              "      <td>0</td>\n",
              "      <td>0</td>\n",
              "      <td>0</td>\n",
              "      <td>0</td>\n",
              "      <td>0</td>\n",
              "    </tr>\n",
              "  </tbody>\n",
              "</table>\n",
              "</div>"
            ],
            "text/plain": [
              "   season_spring  season_summer  ...  weathersit_cloudy  weathersit_rainy\n",
              "0              1              0  ...                  1                 0\n",
              "1              1              0  ...                  1                 0\n",
              "2              1              0  ...                  0                 0\n",
              "3              1              0  ...                  0                 0\n",
              "4              1              0  ...                  0                 0\n",
              "\n",
              "[5 rows x 22 columns]"
            ]
          },
          "metadata": {
            "tags": []
          },
          "execution_count": 30
        }
      ]
    },
    {
      "cell_type": "code",
      "metadata": {
        "id": "5hWkjM6uRpCg"
      },
      "source": [
        "df = pd.concat([df, df_dummy], axis=1)"
      ],
      "execution_count": 31,
      "outputs": []
    },
    {
      "cell_type": "markdown",
      "metadata": {
        "id": "CZ61soC1UJN6"
      },
      "source": [
        "Dropping columns \n",
        "- `atemp`: This column is highly correlated with `temp` temperature\n",
        "- `windspped` :  This column is highly correlated with `hum` humidity\n"
      ]
    },
    {
      "cell_type": "code",
      "metadata": {
        "id": "1NMWv5BNSsLC"
      },
      "source": [
        "df.drop(labels=['atemp','hum'],axis=1,inplace=True)"
      ],
      "execution_count": 32,
      "outputs": []
    },
    {
      "cell_type": "code",
      "metadata": {
        "colab": {
          "base_uri": "https://localhost:8080/",
          "height": 223
        },
        "id": "VxCSnVzVScal",
        "outputId": "74e2815f-95ae-40d1-e4a7-0c13f86eacbd"
      },
      "source": [
        "df.head()"
      ],
      "execution_count": 33,
      "outputs": [
        {
          "output_type": "execute_result",
          "data": {
            "text/html": [
              "<div>\n",
              "<style scoped>\n",
              "    .dataframe tbody tr th:only-of-type {\n",
              "        vertical-align: middle;\n",
              "    }\n",
              "\n",
              "    .dataframe tbody tr th {\n",
              "        vertical-align: top;\n",
              "    }\n",
              "\n",
              "    .dataframe thead th {\n",
              "        text-align: right;\n",
              "    }\n",
              "</style>\n",
              "<table border=\"1\" class=\"dataframe\">\n",
              "  <thead>\n",
              "    <tr style=\"text-align: right;\">\n",
              "      <th></th>\n",
              "      <th>yr</th>\n",
              "      <th>holiday</th>\n",
              "      <th>workingday</th>\n",
              "      <th>temp</th>\n",
              "      <th>windspeed</th>\n",
              "      <th>cnt</th>\n",
              "      <th>season_spring</th>\n",
              "      <th>season_summer</th>\n",
              "      <th>season_winter</th>\n",
              "      <th>mnth_Aug</th>\n",
              "      <th>mnth_Dec</th>\n",
              "      <th>mnth_Feb</th>\n",
              "      <th>mnth_Jan</th>\n",
              "      <th>mnth_Jul</th>\n",
              "      <th>mnth_Jun</th>\n",
              "      <th>mnth_Mar</th>\n",
              "      <th>mnth_May</th>\n",
              "      <th>mnth_Nov</th>\n",
              "      <th>mnth_Oct</th>\n",
              "      <th>mnth_Sep</th>\n",
              "      <th>weekday_Mon</th>\n",
              "      <th>weekday_Sat</th>\n",
              "      <th>weekday_Sun</th>\n",
              "      <th>weekday_Thu</th>\n",
              "      <th>weekday_Tue</th>\n",
              "      <th>weekday_Wed</th>\n",
              "      <th>weathersit_cloudy</th>\n",
              "      <th>weathersit_rainy</th>\n",
              "    </tr>\n",
              "  </thead>\n",
              "  <tbody>\n",
              "    <tr>\n",
              "      <th>0</th>\n",
              "      <td>0</td>\n",
              "      <td>0</td>\n",
              "      <td>1</td>\n",
              "      <td>14.110847</td>\n",
              "      <td>10.749882</td>\n",
              "      <td>985</td>\n",
              "      <td>1</td>\n",
              "      <td>0</td>\n",
              "      <td>0</td>\n",
              "      <td>0</td>\n",
              "      <td>0</td>\n",
              "      <td>0</td>\n",
              "      <td>1</td>\n",
              "      <td>0</td>\n",
              "      <td>0</td>\n",
              "      <td>0</td>\n",
              "      <td>0</td>\n",
              "      <td>0</td>\n",
              "      <td>0</td>\n",
              "      <td>0</td>\n",
              "      <td>1</td>\n",
              "      <td>0</td>\n",
              "      <td>0</td>\n",
              "      <td>0</td>\n",
              "      <td>0</td>\n",
              "      <td>0</td>\n",
              "      <td>1</td>\n",
              "      <td>0</td>\n",
              "    </tr>\n",
              "    <tr>\n",
              "      <th>1</th>\n",
              "      <td>0</td>\n",
              "      <td>0</td>\n",
              "      <td>1</td>\n",
              "      <td>14.902598</td>\n",
              "      <td>16.652113</td>\n",
              "      <td>801</td>\n",
              "      <td>1</td>\n",
              "      <td>0</td>\n",
              "      <td>0</td>\n",
              "      <td>0</td>\n",
              "      <td>0</td>\n",
              "      <td>0</td>\n",
              "      <td>1</td>\n",
              "      <td>0</td>\n",
              "      <td>0</td>\n",
              "      <td>0</td>\n",
              "      <td>0</td>\n",
              "      <td>0</td>\n",
              "      <td>0</td>\n",
              "      <td>0</td>\n",
              "      <td>0</td>\n",
              "      <td>0</td>\n",
              "      <td>0</td>\n",
              "      <td>0</td>\n",
              "      <td>1</td>\n",
              "      <td>0</td>\n",
              "      <td>1</td>\n",
              "      <td>0</td>\n",
              "    </tr>\n",
              "    <tr>\n",
              "      <th>2</th>\n",
              "      <td>0</td>\n",
              "      <td>0</td>\n",
              "      <td>1</td>\n",
              "      <td>8.050924</td>\n",
              "      <td>16.636703</td>\n",
              "      <td>1349</td>\n",
              "      <td>1</td>\n",
              "      <td>0</td>\n",
              "      <td>0</td>\n",
              "      <td>0</td>\n",
              "      <td>0</td>\n",
              "      <td>0</td>\n",
              "      <td>1</td>\n",
              "      <td>0</td>\n",
              "      <td>0</td>\n",
              "      <td>0</td>\n",
              "      <td>0</td>\n",
              "      <td>0</td>\n",
              "      <td>0</td>\n",
              "      <td>0</td>\n",
              "      <td>0</td>\n",
              "      <td>0</td>\n",
              "      <td>0</td>\n",
              "      <td>0</td>\n",
              "      <td>0</td>\n",
              "      <td>1</td>\n",
              "      <td>0</td>\n",
              "      <td>0</td>\n",
              "    </tr>\n",
              "    <tr>\n",
              "      <th>3</th>\n",
              "      <td>0</td>\n",
              "      <td>0</td>\n",
              "      <td>1</td>\n",
              "      <td>8.200000</td>\n",
              "      <td>10.739832</td>\n",
              "      <td>1562</td>\n",
              "      <td>1</td>\n",
              "      <td>0</td>\n",
              "      <td>0</td>\n",
              "      <td>0</td>\n",
              "      <td>0</td>\n",
              "      <td>0</td>\n",
              "      <td>1</td>\n",
              "      <td>0</td>\n",
              "      <td>0</td>\n",
              "      <td>0</td>\n",
              "      <td>0</td>\n",
              "      <td>0</td>\n",
              "      <td>0</td>\n",
              "      <td>0</td>\n",
              "      <td>0</td>\n",
              "      <td>0</td>\n",
              "      <td>0</td>\n",
              "      <td>1</td>\n",
              "      <td>0</td>\n",
              "      <td>0</td>\n",
              "      <td>0</td>\n",
              "      <td>0</td>\n",
              "    </tr>\n",
              "    <tr>\n",
              "      <th>4</th>\n",
              "      <td>0</td>\n",
              "      <td>0</td>\n",
              "      <td>1</td>\n",
              "      <td>9.305237</td>\n",
              "      <td>12.522300</td>\n",
              "      <td>1600</td>\n",
              "      <td>1</td>\n",
              "      <td>0</td>\n",
              "      <td>0</td>\n",
              "      <td>0</td>\n",
              "      <td>0</td>\n",
              "      <td>0</td>\n",
              "      <td>1</td>\n",
              "      <td>0</td>\n",
              "      <td>0</td>\n",
              "      <td>0</td>\n",
              "      <td>0</td>\n",
              "      <td>0</td>\n",
              "      <td>0</td>\n",
              "      <td>0</td>\n",
              "      <td>0</td>\n",
              "      <td>0</td>\n",
              "      <td>0</td>\n",
              "      <td>0</td>\n",
              "      <td>0</td>\n",
              "      <td>0</td>\n",
              "      <td>0</td>\n",
              "      <td>0</td>\n",
              "    </tr>\n",
              "  </tbody>\n",
              "</table>\n",
              "</div>"
            ],
            "text/plain": [
              "   yr  holiday  workingday  ...  weekday_Wed  weathersit_cloudy  weathersit_rainy\n",
              "0   0        0           1  ...            0                  1                 0\n",
              "1   0        0           1  ...            0                  1                 0\n",
              "2   0        0           1  ...            1                  0                 0\n",
              "3   0        0           1  ...            0                  0                 0\n",
              "4   0        0           1  ...            0                  0                 0\n",
              "\n",
              "[5 rows x 28 columns]"
            ]
          },
          "metadata": {
            "tags": []
          },
          "execution_count": 33
        }
      ]
    },
    {
      "cell_type": "code",
      "metadata": {
        "id": "NGz-z8BaUgnr"
      },
      "source": [
        "X = df.drop('cnt',axis=1)\n",
        "y = df['cnt']"
      ],
      "execution_count": 34,
      "outputs": []
    },
    {
      "cell_type": "code",
      "metadata": {
        "colab": {
          "base_uri": "https://localhost:8080/"
        },
        "id": "fZmH0iJ7Y4VK",
        "outputId": "69b78815-551d-49b1-f294-7f3339b4de70"
      },
      "source": [
        "print('Features shape: {}, and Target Variable {}'.format(X.shape,y.shape[0]))"
      ],
      "execution_count": 35,
      "outputs": [
        {
          "output_type": "stream",
          "text": [
            "Features shape: (730, 27), and Target Variable 730\n"
          ],
          "name": "stdout"
        }
      ]
    },
    {
      "cell_type": "code",
      "metadata": {
        "id": "7zxkj7BuZVQm"
      },
      "source": [
        "#Train-Test Split\n",
        "from sklearn.model_selection import train_test_split\n",
        "X_train, X_test, y_train, y_test = train_test_split(X, y, test_size=0.2, random_state=0)"
      ],
      "execution_count": 36,
      "outputs": []
    },
    {
      "cell_type": "code",
      "metadata": {
        "colab": {
          "base_uri": "https://localhost:8080/"
        },
        "id": "9y7dHNHTcTKr",
        "outputId": "32cd0157-b827-410e-a52e-bc45170293e8"
      },
      "source": [
        "print('Features : \\nTrain set shape {} \\nTest set shape{}'.format(X_train.shape,X_test.shape), end='\\n\\n')\n",
        "print('Target : \\nTrain set shape {} \\nTest set shape {}'.format(y_train.shape[0],y_test.shape[0]))"
      ],
      "execution_count": 37,
      "outputs": [
        {
          "output_type": "stream",
          "text": [
            "Features : \n",
            "Train set shape (584, 27) \n",
            "Test set shape(146, 27)\n",
            "\n",
            "Target : \n",
            "Train set shape 584 \n",
            "Test set shape 146\n"
          ],
          "name": "stdout"
        }
      ]
    },
    {
      "cell_type": "code",
      "metadata": {
        "colab": {
          "base_uri": "https://localhost:8080/"
        },
        "id": "-nNvvrTNdvzF",
        "outputId": "88771a25-8a7c-4f7c-feac-641ad33d1c44"
      },
      "source": [
        "num_feat = list(X_train.describe().columns)\n",
        "num_feat"
      ],
      "execution_count": 38,
      "outputs": [
        {
          "output_type": "execute_result",
          "data": {
            "text/plain": [
              "['yr',\n",
              " 'holiday',\n",
              " 'workingday',\n",
              " 'temp',\n",
              " 'windspeed',\n",
              " 'season_spring',\n",
              " 'season_summer',\n",
              " 'season_winter',\n",
              " 'mnth_Aug',\n",
              " 'mnth_Dec',\n",
              " 'mnth_Feb',\n",
              " 'mnth_Jan',\n",
              " 'mnth_Jul',\n",
              " 'mnth_Jun',\n",
              " 'mnth_Mar',\n",
              " 'mnth_May',\n",
              " 'mnth_Nov',\n",
              " 'mnth_Oct',\n",
              " 'mnth_Sep',\n",
              " 'weekday_Mon',\n",
              " 'weekday_Sat',\n",
              " 'weekday_Sun',\n",
              " 'weekday_Thu',\n",
              " 'weekday_Tue',\n",
              " 'weekday_Wed',\n",
              " 'weathersit_cloudy',\n",
              " 'weathersit_rainy']"
            ]
          },
          "metadata": {
            "tags": []
          },
          "execution_count": 38
        }
      ]
    },
    {
      "cell_type": "code",
      "metadata": {
        "id": "MgbJlQOEc6Mn"
      },
      "source": [
        "# Scaling\n",
        "from sklearn.preprocessing import StandardScaler\n",
        "sc = StandardScaler()\n",
        "X_train[num_feat] = sc.fit_transform(X_train[num_feat])\n",
        "X_test[num_feat] = sc.transform(X_test[num_feat])"
      ],
      "execution_count": 39,
      "outputs": []
    },
    {
      "cell_type": "code",
      "metadata": {
        "colab": {
          "base_uri": "https://localhost:8080/",
          "height": 223
        },
        "id": "JZczD3wIdFHq",
        "outputId": "9eeb13ce-2c76-4ee4-d299-61a624feb690"
      },
      "source": [
        "X_train.head()"
      ],
      "execution_count": 40,
      "outputs": [
        {
          "output_type": "execute_result",
          "data": {
            "text/html": [
              "<div>\n",
              "<style scoped>\n",
              "    .dataframe tbody tr th:only-of-type {\n",
              "        vertical-align: middle;\n",
              "    }\n",
              "\n",
              "    .dataframe tbody tr th {\n",
              "        vertical-align: top;\n",
              "    }\n",
              "\n",
              "    .dataframe thead th {\n",
              "        text-align: right;\n",
              "    }\n",
              "</style>\n",
              "<table border=\"1\" class=\"dataframe\">\n",
              "  <thead>\n",
              "    <tr style=\"text-align: right;\">\n",
              "      <th></th>\n",
              "      <th>yr</th>\n",
              "      <th>holiday</th>\n",
              "      <th>workingday</th>\n",
              "      <th>temp</th>\n",
              "      <th>windspeed</th>\n",
              "      <th>season_spring</th>\n",
              "      <th>season_summer</th>\n",
              "      <th>season_winter</th>\n",
              "      <th>mnth_Aug</th>\n",
              "      <th>mnth_Dec</th>\n",
              "      <th>mnth_Feb</th>\n",
              "      <th>mnth_Jan</th>\n",
              "      <th>mnth_Jul</th>\n",
              "      <th>mnth_Jun</th>\n",
              "      <th>mnth_Mar</th>\n",
              "      <th>mnth_May</th>\n",
              "      <th>mnth_Nov</th>\n",
              "      <th>mnth_Oct</th>\n",
              "      <th>mnth_Sep</th>\n",
              "      <th>weekday_Mon</th>\n",
              "      <th>weekday_Sat</th>\n",
              "      <th>weekday_Sun</th>\n",
              "      <th>weekday_Thu</th>\n",
              "      <th>weekday_Tue</th>\n",
              "      <th>weekday_Wed</th>\n",
              "      <th>weathersit_cloudy</th>\n",
              "      <th>weathersit_rainy</th>\n",
              "    </tr>\n",
              "  </thead>\n",
              "  <tbody>\n",
              "    <tr>\n",
              "      <th>239</th>\n",
              "      <td>-0.989778</td>\n",
              "      <td>-0.167836</td>\n",
              "      <td>0.664812</td>\n",
              "      <td>1.169798</td>\n",
              "      <td>1.494191</td>\n",
              "      <td>-0.558891</td>\n",
              "      <td>-0.593171</td>\n",
              "      <td>-0.577350</td>\n",
              "      <td>3.268027</td>\n",
              "      <td>-0.30933</td>\n",
              "      <td>-0.278372</td>\n",
              "      <td>-0.299253</td>\n",
              "      <td>-0.292407</td>\n",
              "      <td>-0.302636</td>\n",
              "      <td>-0.312641</td>\n",
              "      <td>-0.31593</td>\n",
              "      <td>-0.305995</td>\n",
              "      <td>-0.31593</td>\n",
              "      <td>-0.274784</td>\n",
              "      <td>-0.404162</td>\n",
              "      <td>-0.407024</td>\n",
              "      <td>-0.407024</td>\n",
              "      <td>-0.424026</td>\n",
              "      <td>2.439750</td>\n",
              "      <td>-0.395519</td>\n",
              "      <td>-0.710742</td>\n",
              "      <td>-0.156721</td>\n",
              "    </tr>\n",
              "    <tr>\n",
              "      <th>97</th>\n",
              "      <td>-0.989778</td>\n",
              "      <td>-0.167836</td>\n",
              "      <td>-1.504184</td>\n",
              "      <td>-0.849259</td>\n",
              "      <td>0.480773</td>\n",
              "      <td>-0.558891</td>\n",
              "      <td>1.685854</td>\n",
              "      <td>-0.577350</td>\n",
              "      <td>-0.305995</td>\n",
              "      <td>-0.30933</td>\n",
              "      <td>-0.278372</td>\n",
              "      <td>-0.299253</td>\n",
              "      <td>-0.292407</td>\n",
              "      <td>-0.302636</td>\n",
              "      <td>-0.312641</td>\n",
              "      <td>-0.31593</td>\n",
              "      <td>-0.305995</td>\n",
              "      <td>-0.31593</td>\n",
              "      <td>-0.274784</td>\n",
              "      <td>-0.404162</td>\n",
              "      <td>-0.407024</td>\n",
              "      <td>2.456857</td>\n",
              "      <td>-0.424026</td>\n",
              "      <td>-0.409878</td>\n",
              "      <td>-0.395519</td>\n",
              "      <td>1.406980</td>\n",
              "      <td>-0.156721</td>\n",
              "    </tr>\n",
              "    <tr>\n",
              "      <th>503</th>\n",
              "      <td>1.010327</td>\n",
              "      <td>-0.167836</td>\n",
              "      <td>-1.504184</td>\n",
              "      <td>0.587516</td>\n",
              "      <td>-1.385350</td>\n",
              "      <td>-0.558891</td>\n",
              "      <td>1.685854</td>\n",
              "      <td>-0.577350</td>\n",
              "      <td>-0.305995</td>\n",
              "      <td>-0.30933</td>\n",
              "      <td>-0.278372</td>\n",
              "      <td>-0.299253</td>\n",
              "      <td>-0.292407</td>\n",
              "      <td>-0.302636</td>\n",
              "      <td>-0.312641</td>\n",
              "      <td>3.16526</td>\n",
              "      <td>-0.305995</td>\n",
              "      <td>-0.31593</td>\n",
              "      <td>-0.274784</td>\n",
              "      <td>-0.404162</td>\n",
              "      <td>-0.407024</td>\n",
              "      <td>2.456857</td>\n",
              "      <td>-0.424026</td>\n",
              "      <td>-0.409878</td>\n",
              "      <td>-0.395519</td>\n",
              "      <td>-0.710742</td>\n",
              "      <td>-0.156721</td>\n",
              "    </tr>\n",
              "    <tr>\n",
              "      <th>642</th>\n",
              "      <td>1.010327</td>\n",
              "      <td>-0.167836</td>\n",
              "      <td>-1.504184</td>\n",
              "      <td>0.669099</td>\n",
              "      <td>-1.093395</td>\n",
              "      <td>-0.558891</td>\n",
              "      <td>-0.593171</td>\n",
              "      <td>1.732051</td>\n",
              "      <td>-0.305995</td>\n",
              "      <td>-0.30933</td>\n",
              "      <td>-0.278372</td>\n",
              "      <td>-0.299253</td>\n",
              "      <td>-0.292407</td>\n",
              "      <td>-0.302636</td>\n",
              "      <td>-0.312641</td>\n",
              "      <td>-0.31593</td>\n",
              "      <td>-0.305995</td>\n",
              "      <td>3.16526</td>\n",
              "      <td>-0.274784</td>\n",
              "      <td>-0.404162</td>\n",
              "      <td>2.456857</td>\n",
              "      <td>-0.407024</td>\n",
              "      <td>-0.424026</td>\n",
              "      <td>-0.409878</td>\n",
              "      <td>-0.395519</td>\n",
              "      <td>-0.710742</td>\n",
              "      <td>-0.156721</td>\n",
              "    </tr>\n",
              "    <tr>\n",
              "      <th>498</th>\n",
              "      <td>1.010327</td>\n",
              "      <td>-0.167836</td>\n",
              "      <td>0.664812</td>\n",
              "      <td>0.442477</td>\n",
              "      <td>0.294182</td>\n",
              "      <td>-0.558891</td>\n",
              "      <td>1.685854</td>\n",
              "      <td>-0.577350</td>\n",
              "      <td>-0.305995</td>\n",
              "      <td>-0.30933</td>\n",
              "      <td>-0.278372</td>\n",
              "      <td>-0.299253</td>\n",
              "      <td>-0.292407</td>\n",
              "      <td>-0.302636</td>\n",
              "      <td>-0.312641</td>\n",
              "      <td>3.16526</td>\n",
              "      <td>-0.305995</td>\n",
              "      <td>-0.31593</td>\n",
              "      <td>-0.274784</td>\n",
              "      <td>-0.404162</td>\n",
              "      <td>-0.407024</td>\n",
              "      <td>-0.407024</td>\n",
              "      <td>-0.424026</td>\n",
              "      <td>2.439750</td>\n",
              "      <td>-0.395519</td>\n",
              "      <td>1.406980</td>\n",
              "      <td>-0.156721</td>\n",
              "    </tr>\n",
              "  </tbody>\n",
              "</table>\n",
              "</div>"
            ],
            "text/plain": [
              "           yr   holiday  ...  weathersit_cloudy  weathersit_rainy\n",
              "239 -0.989778 -0.167836  ...          -0.710742         -0.156721\n",
              "97  -0.989778 -0.167836  ...           1.406980         -0.156721\n",
              "503  1.010327 -0.167836  ...          -0.710742         -0.156721\n",
              "642  1.010327 -0.167836  ...          -0.710742         -0.156721\n",
              "498  1.010327 -0.167836  ...           1.406980         -0.156721\n",
              "\n",
              "[5 rows x 27 columns]"
            ]
          },
          "metadata": {
            "tags": []
          },
          "execution_count": 40
        }
      ]
    },
    {
      "cell_type": "code",
      "metadata": {
        "colab": {
          "base_uri": "https://localhost:8080/"
        },
        "id": "6PuZFWM0eD-i",
        "outputId": "3da91527-7123-4a00-d8c9-12bf7b469c73"
      },
      "source": [
        "#Now creating a linear model\n",
        "reg = LinearRegression()\n",
        "reg.fit(X_train, y_train)"
      ],
      "execution_count": 41,
      "outputs": [
        {
          "output_type": "execute_result",
          "data": {
            "text/plain": [
              "LinearRegression(copy_X=True, fit_intercept=True, n_jobs=None, normalize=False)"
            ]
          },
          "metadata": {
            "tags": []
          },
          "execution_count": 41
        }
      ]
    },
    {
      "cell_type": "code",
      "metadata": {
        "colab": {
          "base_uri": "https://localhost:8080/",
          "height": 881
        },
        "id": "_E3Z4V6weQsZ",
        "outputId": "70336a9f-8899-488b-a6fb-323908ef2896"
      },
      "source": [
        "coeff = pd.DataFrame(reg.coef_, X.columns, columns=['Coefficients'])\n",
        "coeff"
      ],
      "execution_count": 42,
      "outputs": [
        {
          "output_type": "execute_result",
          "data": {
            "text/html": [
              "<div>\n",
              "<style scoped>\n",
              "    .dataframe tbody tr th:only-of-type {\n",
              "        vertical-align: middle;\n",
              "    }\n",
              "\n",
              "    .dataframe tbody tr th {\n",
              "        vertical-align: top;\n",
              "    }\n",
              "\n",
              "    .dataframe thead th {\n",
              "        text-align: right;\n",
              "    }\n",
              "</style>\n",
              "<table border=\"1\" class=\"dataframe\">\n",
              "  <thead>\n",
              "    <tr style=\"text-align: right;\">\n",
              "      <th></th>\n",
              "      <th>Coefficients</th>\n",
              "    </tr>\n",
              "  </thead>\n",
              "  <tbody>\n",
              "    <tr>\n",
              "      <th>yr</th>\n",
              "      <td>993.488771</td>\n",
              "    </tr>\n",
              "    <tr>\n",
              "      <th>holiday</th>\n",
              "      <td>-163.689280</td>\n",
              "    </tr>\n",
              "    <tr>\n",
              "      <th>workingday</th>\n",
              "      <td>-317.153923</td>\n",
              "    </tr>\n",
              "    <tr>\n",
              "      <th>temp</th>\n",
              "      <td>751.261210</td>\n",
              "    </tr>\n",
              "    <tr>\n",
              "      <th>windspeed</th>\n",
              "      <td>-184.880510</td>\n",
              "    </tr>\n",
              "    <tr>\n",
              "      <th>season_spring</th>\n",
              "      <td>-346.951468</td>\n",
              "    </tr>\n",
              "    <tr>\n",
              "      <th>season_summer</th>\n",
              "      <td>3.256137</td>\n",
              "    </tr>\n",
              "    <tr>\n",
              "      <th>season_winter</th>\n",
              "      <td>270.145695</td>\n",
              "    </tr>\n",
              "    <tr>\n",
              "      <th>mnth_Aug</th>\n",
              "      <td>-30.297095</td>\n",
              "    </tr>\n",
              "    <tr>\n",
              "      <th>mnth_Dec</th>\n",
              "      <td>-178.355726</td>\n",
              "    </tr>\n",
              "    <tr>\n",
              "      <th>mnth_Feb</th>\n",
              "      <td>-111.181773</td>\n",
              "    </tr>\n",
              "    <tr>\n",
              "      <th>mnth_Jan</th>\n",
              "      <td>-169.666587</td>\n",
              "    </tr>\n",
              "    <tr>\n",
              "      <th>mnth_Jul</th>\n",
              "      <td>-129.011628</td>\n",
              "    </tr>\n",
              "    <tr>\n",
              "      <th>mnth_Jun</th>\n",
              "      <td>8.393111</td>\n",
              "    </tr>\n",
              "    <tr>\n",
              "      <th>mnth_Mar</th>\n",
              "      <td>2.721525</td>\n",
              "    </tr>\n",
              "    <tr>\n",
              "      <th>mnth_May</th>\n",
              "      <td>42.254951</td>\n",
              "    </tr>\n",
              "    <tr>\n",
              "      <th>mnth_Nov</th>\n",
              "      <td>-189.220081</td>\n",
              "    </tr>\n",
              "    <tr>\n",
              "      <th>mnth_Oct</th>\n",
              "      <td>-10.985658</td>\n",
              "    </tr>\n",
              "    <tr>\n",
              "      <th>mnth_Sep</th>\n",
              "      <td>98.776365</td>\n",
              "    </tr>\n",
              "    <tr>\n",
              "      <th>weekday_Mon</th>\n",
              "      <td>-80.348440</td>\n",
              "    </tr>\n",
              "    <tr>\n",
              "      <th>weekday_Sat</th>\n",
              "      <td>-196.183942</td>\n",
              "    </tr>\n",
              "    <tr>\n",
              "      <th>weekday_Sun</th>\n",
              "      <td>-164.920016</td>\n",
              "    </tr>\n",
              "    <tr>\n",
              "      <th>weekday_Thu</th>\n",
              "      <td>19.821478</td>\n",
              "    </tr>\n",
              "    <tr>\n",
              "      <th>weekday_Tue</th>\n",
              "      <td>-80.724547</td>\n",
              "    </tr>\n",
              "    <tr>\n",
              "      <th>weekday_Wed</th>\n",
              "      <td>-35.742634</td>\n",
              "    </tr>\n",
              "    <tr>\n",
              "      <th>weathersit_cloudy</th>\n",
              "      <td>-333.543100</td>\n",
              "    </tr>\n",
              "    <tr>\n",
              "      <th>weathersit_rainy</th>\n",
              "      <td>-361.917635</td>\n",
              "    </tr>\n",
              "  </tbody>\n",
              "</table>\n",
              "</div>"
            ],
            "text/plain": [
              "                   Coefficients\n",
              "yr                   993.488771\n",
              "holiday             -163.689280\n",
              "workingday          -317.153923\n",
              "temp                 751.261210\n",
              "windspeed           -184.880510\n",
              "season_spring       -346.951468\n",
              "season_summer          3.256137\n",
              "season_winter        270.145695\n",
              "mnth_Aug             -30.297095\n",
              "mnth_Dec            -178.355726\n",
              "mnth_Feb            -111.181773\n",
              "mnth_Jan            -169.666587\n",
              "mnth_Jul            -129.011628\n",
              "mnth_Jun               8.393111\n",
              "mnth_Mar               2.721525\n",
              "mnth_May              42.254951\n",
              "mnth_Nov            -189.220081\n",
              "mnth_Oct             -10.985658\n",
              "mnth_Sep              98.776365\n",
              "weekday_Mon          -80.348440\n",
              "weekday_Sat         -196.183942\n",
              "weekday_Sun         -164.920016\n",
              "weekday_Thu           19.821478\n",
              "weekday_Tue          -80.724547\n",
              "weekday_Wed          -35.742634\n",
              "weathersit_cloudy   -333.543100\n",
              "weathersit_rainy    -361.917635"
            ]
          },
          "metadata": {
            "tags": []
          },
          "execution_count": 42
        }
      ]
    },
    {
      "cell_type": "code",
      "metadata": {
        "colab": {
          "base_uri": "https://localhost:8080/"
        },
        "id": "niY3R5cBe031",
        "outputId": "f698ae66-ced5-46b3-87e2-cfc09b823107"
      },
      "source": [
        "print('Intercept of the linear model: {}'.format(reg.intercept_))"
      ],
      "execution_count": 43,
      "outputs": [
        {
          "output_type": "stream",
          "text": [
            "Intercept of the linear model: 4492.518835616438\n"
          ],
          "name": "stdout"
        }
      ]
    },
    {
      "cell_type": "code",
      "metadata": {
        "id": "dGtQVTnkfO3t"
      },
      "source": [
        "#Now , let's make predications using the linear model\n",
        "y_pred = reg.predict(X_test)\n",
        "y_pred_train = reg.predict(X_train)"
      ],
      "execution_count": 50,
      "outputs": []
    },
    {
      "cell_type": "code",
      "metadata": {
        "colab": {
          "base_uri": "https://localhost:8080/",
          "height": 203
        },
        "id": "TFVWvQemfZ9J",
        "outputId": "9947bf3e-9754-4cb6-b366-6cf34f6aa6c0"
      },
      "source": [
        "df_result = pd.DataFrame({'Actual':y_test,'Predicted': y_pred})\n",
        "df_result.head()"
      ],
      "execution_count": 46,
      "outputs": [
        {
          "output_type": "execute_result",
          "data": {
            "text/html": [
              "<div>\n",
              "<style scoped>\n",
              "    .dataframe tbody tr th:only-of-type {\n",
              "        vertical-align: middle;\n",
              "    }\n",
              "\n",
              "    .dataframe tbody tr th {\n",
              "        vertical-align: top;\n",
              "    }\n",
              "\n",
              "    .dataframe thead th {\n",
              "        text-align: right;\n",
              "    }\n",
              "</style>\n",
              "<table border=\"1\" class=\"dataframe\">\n",
              "  <thead>\n",
              "    <tr style=\"text-align: right;\">\n",
              "      <th></th>\n",
              "      <th>Actual</th>\n",
              "      <th>Predicted</th>\n",
              "    </tr>\n",
              "  </thead>\n",
              "  <tbody>\n",
              "    <tr>\n",
              "      <th>196</th>\n",
              "      <td>5923</td>\n",
              "      <td>4116.650375</td>\n",
              "    </tr>\n",
              "    <tr>\n",
              "      <th>187</th>\n",
              "      <td>4592</td>\n",
              "      <td>4851.314087</td>\n",
              "    </tr>\n",
              "    <tr>\n",
              "      <th>14</th>\n",
              "      <td>1248</td>\n",
              "      <td>725.992281</td>\n",
              "    </tr>\n",
              "    <tr>\n",
              "      <th>31</th>\n",
              "      <td>1360</td>\n",
              "      <td>1284.328600</td>\n",
              "    </tr>\n",
              "    <tr>\n",
              "      <th>390</th>\n",
              "      <td>4075</td>\n",
              "      <td>3717.072329</td>\n",
              "    </tr>\n",
              "  </tbody>\n",
              "</table>\n",
              "</div>"
            ],
            "text/plain": [
              "     Actual    Predicted\n",
              "196    5923  4116.650375\n",
              "187    4592  4851.314087\n",
              "14     1248   725.992281\n",
              "31     1360  1284.328600\n",
              "390    4075  3717.072329"
            ]
          },
          "metadata": {
            "tags": []
          },
          "execution_count": 46
        }
      ]
    },
    {
      "cell_type": "code",
      "metadata": {
        "colab": {
          "base_uri": "https://localhost:8080/"
        },
        "id": "DKA1Hmg4fi7T",
        "outputId": "a54e7eaf-571f-4ba3-f74a-8612954b83e2"
      },
      "source": [
        "#Let's check the R2\n",
        "from sklearn.metrics import r2_score\n",
        "print('On Train:',r2_score(y_train, y_pred_train))\n",
        "print('On Test:',r2_score(y_test, y_pred))"
      ],
      "execution_count": 51,
      "outputs": [
        {
          "output_type": "stream",
          "text": [
            "On Train: 0.8297106634103009\n",
            "On Test: 0.8728071946059206\n"
          ],
          "name": "stdout"
        }
      ]
    },
    {
      "cell_type": "code",
      "metadata": {
        "id": "dRQXMzEWgFwK"
      },
      "source": [
        "import statsmodels.api as sm  \n",
        "from statsmodels.stats.outliers_influence import variance_inflation_factor\n",
        "def build_model(X,y):\n",
        "    X = sm.add_constant(X) #Adding the constant\n",
        "    lm = sm.OLS(y,X).fit() # fitting the model\n",
        "    print(lm.summary()) # model summary\n",
        "    return X\n",
        "    \n",
        "def checkVIF(X):\n",
        "    vif = pd.DataFrame()\n",
        "    vif['Features'] = X.columns\n",
        "    vif['VIF'] = [variance_inflation_factor(X.values, i) for i in range(X.shape[1])]\n",
        "    vif['VIF'] = round(vif['VIF'], 2)\n",
        "    vif = vif.sort_values(by = \"VIF\", ascending = False)\n",
        "    return(vif)"
      ],
      "execution_count": null,
      "outputs": []
    },
    {
      "cell_type": "code",
      "metadata": {
        "id": "mKFKs2f6gRGw"
      },
      "source": [
        "X_train_new = build_model(X_train, y_train)"
      ],
      "execution_count": null,
      "outputs": []
    },
    {
      "cell_type": "code",
      "metadata": {
        "id": "l0Wjr62ggjQ0"
      },
      "source": [
        "checkVIF(X_train_new)"
      ],
      "execution_count": null,
      "outputs": []
    },
    {
      "cell_type": "code",
      "metadata": {
        "id": "9WJka0LJfncB"
      },
      "source": [
        "# RFE: Recursive Feature Elimination\n",
        "\n",
        "from sklearn.feature_selection import RFE"
      ],
      "execution_count": null,
      "outputs": []
    },
    {
      "cell_type": "code",
      "metadata": {
        "id": "xKmOtmelf_6A"
      },
      "source": [
        "rfe = RFE(reg, 25)\n",
        "rfe = rfe.fit(X_train, y_train)\n",
        "ref_df = pd.DataFrame(data={'Column':X_train.columns.to_list(),'RFE':rfe.support_,'Rank':rfe.ranking_})\n",
        "ref_df.sort_values(by=['Rank'],ascending=True)"
      ],
      "execution_count": null,
      "outputs": []
    },
    {
      "cell_type": "code",
      "metadata": {
        "id": "0OOoynnjjWZG"
      },
      "source": [
        "ref_df[ref_df.RFE == False]['Column'].to_list()"
      ],
      "execution_count": null,
      "outputs": []
    },
    {
      "cell_type": "markdown",
      "metadata": {
        "id": "tiEiLdJ7pZqk"
      },
      "source": [
        "\n",
        "                        coef    std err          t      P>|t|      [0.\n",
        "\n",
        "---\n",
        "\n",
        "025      0.975]\n",
        "\n",
        "season_summer        | 3.2561 |    93.341 |     0.035    |  0.972 | -180.087   |  186.600\n",
        "\n",
        "mnth_Mar              2.7215     59.976      0.045      0.964    -115.086     120.529\n",
        "\n",
        "From P value and RFE `season_summer`, `mnth_Mar` are insignificant hence dropping\n"
      ]
    },
    {
      "cell_type": "markdown",
      "metadata": {
        "id": "VMYIQN1UqEou"
      },
      "source": [
        "## Model 2"
      ]
    },
    {
      "cell_type": "code",
      "metadata": {
        "id": "2bO4wtzclCcW"
      },
      "source": [
        "X_train_2 = X_train.drop(labels=['season_summer','mnth_Mar'],axis=1)\n",
        "X_test_2 = X_test.drop(labels=['season_summer','mnth_Mar'],axis=1)\n",
        "reg2 = LinearRegression()\n",
        "reg2.fit(X_train_2, y_train)\n",
        "y_pred = reg2.predict(X_test_2)\n",
        "r2_score(y_test, y_pred)"
      ],
      "execution_count": null,
      "outputs": []
    },
    {
      "cell_type": "code",
      "metadata": {
        "id": "DQdz4G-Jq8Hj"
      },
      "source": [
        "X_train_new = build_model(X_train_2, y_train)"
      ],
      "execution_count": null,
      "outputs": []
    },
    {
      "cell_type": "code",
      "metadata": {
        "id": "SgSumSWfrSrA"
      },
      "source": [
        "checkVIF(X_train_new)"
      ],
      "execution_count": null,
      "outputs": []
    },
    {
      "cell_type": "code",
      "metadata": {
        "id": "RN1MmTqGrVCS"
      },
      "source": [
        "rfe = RFE(reg, 20)\n",
        "rfe = rfe.fit(X_train_2, y_train)\n",
        "ref_df = pd.DataFrame(data={'Column':X_train_2.columns.to_list(),'RFE':rfe.support_,'Rank':rfe.ranking_})\n",
        "ref_df.sort_values(by=['Rank'],ascending=True)"
      ],
      "execution_count": null,
      "outputs": []
    },
    {
      "cell_type": "markdown",
      "metadata": {
        "id": "VtySO8KfsR3S"
      },
      "source": [
        "## Model 3\n",
        "From P values and RFE we can drop `weekday_Thu`, `mnth_Oct`, `mnth_Jun` "
      ]
    },
    {
      "cell_type": "code",
      "metadata": {
        "id": "imoWySFxre7u"
      },
      "source": [
        "X_train_3 = X_train_2.drop(labels=['weekday_Thu','mnth_Oct','mnth_Jun'],axis=1)\n",
        "X_test_3 = X_test_2.drop(labels=['weekday_Thu','mnth_Oct','mnth_Jun'],axis=1)\n",
        "reg3 = LinearRegression()\n",
        "reg3.fit(X_train_3, y_train)\n",
        "y_pred = reg3.predict(X_test_3)\n",
        "r2_score(y_test, y_pred)"
      ],
      "execution_count": null,
      "outputs": []
    },
    {
      "cell_type": "code",
      "metadata": {
        "id": "9xgfZDVcsqJK"
      },
      "source": [
        "X_train_new = build_model(X_train_3, y_train)"
      ],
      "execution_count": null,
      "outputs": []
    },
    {
      "cell_type": "code",
      "metadata": {
        "id": "U9vsTKGfssb8"
      },
      "source": [
        "checkVIF(X_train_new)"
      ],
      "execution_count": null,
      "outputs": []
    },
    {
      "cell_type": "code",
      "metadata": {
        "id": "2IW9Vkdxsu8w"
      },
      "source": [
        "rfe = RFE(reg, 20)\n",
        "rfe = rfe.fit(X_train_3, y_train)\n",
        "ref_df = pd.DataFrame(data={'Column':X_train_3.columns.to_list(),'RFE':rfe.support_,'Rank':rfe.ranking_})\n",
        "ref_df.sort_values(by=['Rank'],ascending=True)"
      ],
      "execution_count": null,
      "outputs": []
    },
    {
      "cell_type": "markdown",
      "metadata": {
        "id": "4AW9u-ybt6yy"
      },
      "source": [
        "# Model 4\n",
        "\n",
        "Working day has very high VIF, dropping it out"
      ]
    },
    {
      "cell_type": "code",
      "metadata": {
        "id": "iWcwtb5BtPEv"
      },
      "source": [
        "X_train_4 = X_train_3.drop(labels=['workingday'],axis=1)\n",
        "X_test_4 = X_test_3.drop(labels=['workingday'],axis=1)\n",
        "reg4 = LinearRegression()\n",
        "reg4.fit(X_train_4, y_train)\n",
        "y_pred = reg4.predict(X_test_4)\n",
        "print(r2_score(y_test, y_pred),end='\\n')\n",
        "\n",
        "X_train_new = build_model(X_train_4, y_train)"
      ],
      "execution_count": null,
      "outputs": []
    },
    {
      "cell_type": "code",
      "metadata": {
        "id": "HhN-hY0WuNVI"
      },
      "source": [
        "checkVIF(X_train_new)"
      ],
      "execution_count": null,
      "outputs": []
    },
    {
      "cell_type": "code",
      "metadata": {
        "id": "U0eVNufjuPDA"
      },
      "source": [
        "rfe = RFE(reg, 18)\n",
        "rfe = rfe.fit(X_train_4, y_train)\n",
        "ref_df = pd.DataFrame(data={'Column':X_train_4.columns.to_list(),'RFE':rfe.support_,'Rank':rfe.ranking_})\n",
        "ref_df.sort_values(by=['Rank'],ascending=True)"
      ],
      "execution_count": null,
      "outputs": []
    },
    {
      "cell_type": "markdown",
      "metadata": {
        "id": "rMG17uQDvq47"
      },
      "source": [
        "## Model 5\n",
        "\n",
        "From P values and RFE we can drop `mnth_Aug`, `weekday_Sat`"
      ]
    },
    {
      "cell_type": "code",
      "metadata": {
        "id": "kXNOOBWduikN"
      },
      "source": [
        "X_train_5 = X_train_4.drop(labels=['mnth_Aug','weekday_Sat'],axis=1)\n",
        "X_test_5 = X_test_4.drop(labels=['mnth_Aug','weekday_Sat'],axis=1)\n",
        "reg5 = LinearRegression()\n",
        "reg5.fit(X_train_5, y_train)\n",
        "y_pred = reg5.predict(X_test_5)\n",
        "print(r2_score(y_test, y_pred),end='\\n')\n",
        "\n",
        "X_train_new = build_model(X_train_5, y_train)"
      ],
      "execution_count": null,
      "outputs": []
    },
    {
      "cell_type": "code",
      "metadata": {
        "id": "KYz8-Ccawbkb"
      },
      "source": [
        "rfe = RFE(reg, 18)\n",
        "rfe = rfe.fit(X_train_5, y_train)\n",
        "ref_df = pd.DataFrame(data={'Column':X_train_5.columns.to_list(),'RFE':rfe.support_,'Rank':rfe.ranking_})\n",
        "ref_df.sort_values(by=['Rank'],ascending=True)"
      ],
      "execution_count": null,
      "outputs": []
    },
    {
      "cell_type": "code",
      "metadata": {
        "id": "0Y3q8cxWwcOt"
      },
      "source": [
        "checkVIF(X_train_new)"
      ],
      "execution_count": null,
      "outputs": []
    },
    {
      "cell_type": "code",
      "metadata": {
        "id": "nnZwAm7Twrld"
      },
      "source": [
        ""
      ],
      "execution_count": null,
      "outputs": []
    }
  ]
}